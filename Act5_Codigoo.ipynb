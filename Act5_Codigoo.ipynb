{
 "cells": [
  {
   "cell_type": "code",
   "execution_count": 2,
   "id": "48ce9f5c-e04d-4949-8e93-fdf0f127bd97",
   "metadata": {},
   "outputs": [
    {
     "name": "stdout",
     "output_type": "stream",
     "text": [
      "islas: 6802\n"
     ]
    }
   ],
   "source": [
    "import cv2\n",
    "import numpy as np\n",
    "from scipy.ndimage import label\n",
    "\n",
    "def count_red_objects(image_path, red_lower_bound, red_upper_bound):\n",
    "    # Cargar la imagen\n",
    "    image = cv2.imread(image_path)\n",
    "    \n",
    "    # Convertir a espacio de color HSV para una mejor segmentación del color rojo\n",
    "    hsv = cv2.cvtColor(image, cv2.COLOR_BGR2HSV)\n",
    "    \n",
    "    # Crear una máscara para el color rojo\n",
    "    mask_red = cv2.inRange(hsv, red_lower_bound, red_upper_bound)\n",
    "    \n",
    "    # Opcional: aplicar operaciones morfológicas para eliminar pequeños ruidos o huecos en los objetos rojos\n",
    "    kernel = np.ones((3,3),np.uint8)\n",
    "    mask_red = cv2.morphologyEx(mask_red, cv2.MORPH_OPEN, kernel)\n",
    "    mask_red = cv2.morphologyEx(mask_red, cv2.MORPH_CLOSE, kernel)\n",
    "    \n",
    "    # Etiquetar componentes conectados en la máscara\n",
    "    labeled_array, num_features = label(mask_red)\n",
    "    \n",
    "    return num_features\n",
    "\n",
    "# Definir los límites inferior y superior del color rojo en HSV\n",
    "# Estos límites pueden necesitar ajustes para tu imagen específica\n",
    "red_lower_bound = np.array([0, 120, 70])\n",
    "red_upper_bound = np.array([10, 255, 255])\n",
    "\n",
    "# Contar los objetos rojos en la imagen\n",
    "num_red_objects = count_red_objects('/path/to/your/image.png', red_lower_bound, red_upper_bound)\n",
    "print(f'Number of red objects: {num_red_objects}')\n"
   ]
  },
  {
   "cell_type": "code",
   "execution_count": null,
   "id": "66e7a673-bbcf-4316-845f-ca963aded691",
   "metadata": {},
   "outputs": [],
   "source": []
  },
  {
   "cell_type": "code",
   "execution_count": null,
   "id": "26c3b7ec-cda1-4def-9b3a-f117ec8dacc2",
   "metadata": {},
   "outputs": [],
   "source": []
  }
 ],
 "metadata": {
  "kernelspec": {
   "display_name": "Python 3 (ipykernel)",
   "language": "python",
   "name": "python3"
  },
  "language_info": {
   "codemirror_mode": {
    "name": "ipython",
    "version": 3
   },
   "file_extension": ".py",
   "mimetype": "text/x-python",
   "name": "python",
   "nbconvert_exporter": "python",
   "pygments_lexer": "ipython3",
   "version": "3.10.5"
  }
 },
 "nbformat": 4,
 "nbformat_minor": 5
}
